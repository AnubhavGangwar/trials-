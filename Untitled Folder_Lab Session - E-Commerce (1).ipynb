{
  "metadata": {
    "colab": {
      "name": "Lab Session  -  E-Commerce.ipynb",
      "provenance": []
    },
    "kernelspec": {
      "name": "python",
      "display_name": "Pyolite",
      "language": "python"
    },
    "language_info": {
      "codemirror_mode": {
        "name": "python",
        "version": 3
      },
      "file_extension": ".py",
      "mimetype": "text/x-python",
      "name": "python",
      "nbconvert_exporter": "python",
      "pygments_lexer": "ipython3",
      "version": "3.8"
    }
  },
  "nbformat_minor": 5,
  "nbformat": 4,
  "cells": [
    {
      "cell_type": "markdown",
      "source": "# Lab Session",
      "metadata": {
        "id": "2c8f47d3"
      },
      "id": "2c8f47d3"
    },
    {
      "cell_type": "markdown",
      "source": "## <font color='blue'> Table Of Contents </font>\n- Problem Statement \n- Load required libraries\n- Connect to DB using mysql-connector-python package\n- Create database named `e_commerce`\n- Create tables and insert data into tables as specified in the question\n- Read all the questions and write sql queries to meet the objective ",
      "metadata": {
        "id": "f637aba6"
      },
      "id": "f637aba6"
    },
    {
      "cell_type": "markdown",
      "source": "## <font color='blue'> Problem Statement </font>\n###  An E-commerce website manages its data in the form of various tables.\nYou need to create a Database called `e_commerce` and various tables in it. The tables needed and attributes which need to be in every table are given before hand. All you have to do is create tables with data in it and answer some of the questions that follows.",
      "metadata": {
        "id": "1073fc90"
      },
      "id": "1073fc90"
    },
    {
      "cell_type": "markdown",
      "source": "### Load Required Libraries",
      "metadata": {
        "id": "d9abe6c7"
      },
      "id": "d9abe6c7"
    },
    {
      "cell_type": "code",
      "source": "import mysql.connector as mysql\nimport pandas as pd",
      "metadata": {
        "id": "0178d08e"
      },
      "execution_count": null,
      "outputs": [
        {
          "ename": "<class 'ModuleNotFoundError'>",
          "evalue": "No module named 'mysql'",
          "traceback": [
            "\u001b[0;31m---------------------------------------------------------------------------\u001b[0m",
            "\u001b[0;31mModuleNotFoundError\u001b[0m                       Traceback (most recent call last)",
            "Input \u001b[0;32mIn [1]\u001b[0m, in \u001b[0;36m<cell line: 1>\u001b[0;34m()\u001b[0m\n\u001b[0;32m----> 1\u001b[0m \u001b[38;5;28;01mimport\u001b[39;00m \u001b[38;5;21;01mmysql\u001b[39;00m\u001b[38;5;21;01m.\u001b[39;00m\u001b[38;5;21;01mconnector\u001b[39;00m \u001b[38;5;28;01mas\u001b[39;00m \u001b[38;5;21;01mmysql\u001b[39;00m\n\u001b[1;32m      2\u001b[0m \u001b[38;5;28;01mimport\u001b[39;00m \u001b[38;5;21;01mpandas\u001b[39;00m \u001b[38;5;28;01mas\u001b[39;00m \u001b[38;5;21;01mpd\u001b[39;00m\n",
            "\u001b[0;31mModuleNotFoundError\u001b[0m: No module named 'mysql'"
          ],
          "output_type": "error"
        }
      ],
      "id": "0178d08e"
    },
    {
      "cell_type": "markdown",
      "source": "### Connect to DB using Mysql-connector-python package",
      "metadata": {
        "id": "d7d7fd5c"
      },
      "id": "d7d7fd5c"
    },
    {
      "cell_type": "code",
      "source": "connection = mysql.connect(host=\"localhost\", user=\"root\", password=\"root\")\ncursor = connection.cursor()",
      "metadata": {
        "id": "ef7bef72",
        "trusted": true
      },
      "execution_count": null,
      "outputs": [
        {
          "ename": "<class 'NameError'>",
          "evalue": "name 'mysql' is not defined",
          "traceback": [
            "\u001b[0;31m---------------------------------------------------------------------------\u001b[0m",
            "\u001b[0;31mNameError\u001b[0m                                 Traceback (most recent call last)",
            "Input \u001b[0;32mIn [3]\u001b[0m, in \u001b[0;36m<cell line: 1>\u001b[0;34m()\u001b[0m\n\u001b[0;32m----> 1\u001b[0m connection \u001b[38;5;241m=\u001b[39m \u001b[43mmysql\u001b[49m\u001b[38;5;241m.\u001b[39mconnect(host\u001b[38;5;241m=\u001b[39m\u001b[38;5;124m\"\u001b[39m\u001b[38;5;124mlocalhost\u001b[39m\u001b[38;5;124m\"\u001b[39m, user\u001b[38;5;241m=\u001b[39m\u001b[38;5;124m\"\u001b[39m\u001b[38;5;124mroot\u001b[39m\u001b[38;5;124m\"\u001b[39m, password\u001b[38;5;241m=\u001b[39m\u001b[38;5;124m\"\u001b[39m\u001b[38;5;124mroot\u001b[39m\u001b[38;5;124m\"\u001b[39m)\n\u001b[1;32m      2\u001b[0m cursor \u001b[38;5;241m=\u001b[39m connection\u001b[38;5;241m.\u001b[39mcursor()\n",
            "\u001b[0;31mNameError\u001b[0m: name 'mysql' is not defined"
          ],
          "output_type": "error"
        }
      ],
      "id": "ef7bef72"
    },
    {
      "cell_type": "markdown",
      "source": "### You are required to create a database named 'e_commerce'",
      "metadata": {
        "id": "9d55e510"
      },
      "id": "9d55e510"
    },
    {
      "cell_type": "code",
      "source": "cursor.execute(\"create database e_comm\")\ncursor.execute(\"use e_comm\")",
      "metadata": {
        "id": "42a154f2",
        "trusted": true
      },
      "execution_count": null,
      "outputs": [
        {
          "ename": "<class 'NameError'>",
          "evalue": "name 'cursor' is not defined",
          "traceback": [
            "\u001b[0;31m---------------------------------------------------------------------------\u001b[0m",
            "\u001b[0;31mNameError\u001b[0m                                 Traceback (most recent call last)",
            "Input \u001b[0;32mIn [4]\u001b[0m, in \u001b[0;36m<cell line: 1>\u001b[0;34m()\u001b[0m\n\u001b[0;32m----> 1\u001b[0m \u001b[43mcursor\u001b[49m\u001b[38;5;241m.\u001b[39mexecute(\u001b[38;5;124m\"\u001b[39m\u001b[38;5;124mcreate database e_comm\u001b[39m\u001b[38;5;124m\"\u001b[39m)\n\u001b[1;32m      2\u001b[0m cursor\u001b[38;5;241m.\u001b[39mexecute(\u001b[38;5;124m\"\u001b[39m\u001b[38;5;124muse e_comm\u001b[39m\u001b[38;5;124m\"\u001b[39m)\n",
            "\u001b[0;31mNameError\u001b[0m: name 'cursor' is not defined"
          ],
          "output_type": "error"
        }
      ],
      "id": "42a154f2"
    },
    {
      "cell_type": "markdown",
      "source": "### Q1. Create tables for supplier, customer, category, product, productDetails, order, rating to store the data for the E-commerce with the schema definition given below.\n\n\n- **`supplier`**(SUPP_ID int primary key, SUPP_NAME varchar(50), SUPP_CITY varchar(50), SUPP_PHONE varchar(10))\n\n\n- **`customer`** (CUS_ID INT NOT NULL, CUS_NAME VARCHAR(20) NULL DEFAULT NULL, CUS_PHONE VARCHAR(10), CUS_CITY varchar(30) ,CUS_GENDER CHAR,PRIMARY KEY (CUS_ID))\n\n\n- **`category`** (CAT_ID INT NOT NULL, CAT_NAME VARCHAR(20) NULL DEFAULT NULL,PRIMARY KEY (CAT_ID))\n\n\n- **`product`** (PRO_ID INT NOT NULL, PRO_NAME VARCHAR(20) NULL DEFAULT NULL, PRO_DESC VARCHAR(60) NULL DEFAULT NULL, CAT_ID INT NOT NULL,PRIMARY KEY (PRO_ID),FOREIGN KEY (CAT_ID) REFERENCES CATEGORY (CAT_ID))\n\n\n- **`product_details`** (PROD_ID INT NOT NULL, PRO_ID INT NOT NULL, SUPP_ID INT NOT NULL, PROD_PRICE INT NOT NULL,\n  PRIMARY KEY (PROD_ID),FOREIGN KEY (PRO_ID) REFERENCES PRODUCT (PRO_ID), FOREIGN KEY (SUPP_ID) REFERENCES SUPPLIER(SUPP_ID))\n  \n  \n- **`order`** (ORD_ID INT NOT NULL, ORD_AMOUNT INT NOT NULL, ORD_DATE DATE, CUS_ID INT NOT NULL, PROD_ID INT NOT NULL,PRIMARY KEY (ORD_ID),FOREIGN KEY (CUS_ID) REFERENCES CUSTOMER(CUS_ID),FOREIGN KEY (PROD_ID) REFERENCES PRODUCT_DETAILS(PROD_ID))\n\n\n- **`rating`** (RAT_ID INT NOT NULL, CUS_ID INT NOT NULL, SUPP_ID INT NOT NULL, RAT_RATSTARS INT NOT NULL,PRIMARY KEY (RAT_ID),FOREIGN KEY (SUPP_ID) REFERENCES SUPPLIER (SUPP_ID),FOREIGN KEY (CUS_ID) REFERENCES CUSTOMER(CUS_ID))",
      "metadata": {
        "id": "480dc986"
      },
      "id": "480dc986"
    },
    {
      "cell_type": "code",
      "source": "table_created = \"\"\"create table Supplier(SUPP_ID int primary key, SUPP_NAME varchar(50), SUPP_CITY varchar(50),\n                   SUPP_PHONE varchar(10));\n                   \n                   create table Customer(CUS_ID int primary key, CUS_NAME VARCHAR(20) NULL DEFAULT NULL,\n                   CUS_PHONE VARCHAR(10), CUS_CITY varchar(30) ,CUS_GENDER CHAR);\n                   \n                   create table Category(CAT_ID int primary key, CAT_NAME VARCHAR(20) NULL DEFAULT NULL);\n                   \n                   create table Product(PRO_ID int primary key, PRO_NAME VARCHAR(20) NULL DEFAULT NULL,\n                   PRO_DESC VARCHAR(60) NULL DEFAULT NULL, CAT_ID INT NOT NULL, \n                   FOREIGN KEY (CAT_ID) REFERENCES CATEGORY (CAT_ID));\n                   \n                   create table Product_details(PROD_ID INT NOT NULL, PRO_ID INT NOT NULL,\n                   SUPP_ID INT NOT NULL, PROD_PRICE INT NOT NULL, PRIMARY KEY (PROD_ID),\n                   FOREIGN KEY (PRO_ID) REFERENCES PRODUCT (PRO_ID), FOREIGN KEY (SUPP_ID) REFERENCES SUPPLIER(SUPP_ID));\n                   \n                   create table Orders(ord_id int primary key, ord_amount int not null, ord_date date, cus_id int not null,\n                   prod_id int not null, foreign key(cus_id) references customer(cus_id), foreign key(prod_id) references\n                   product_details(prod_id));\n                   \n                   create table Ratings(RAT_ID int primary key, CUS_ID INT NOT NULL, SUPP_ID INT NOT NULL,\n                   RAT_RATSTARS INT NOT NULL, FOREIGN KEY (SUPP_ID) REFERENCES SUPPLIER (SUPP_ID),\n                   FOREIGN KEY (CUS_ID) REFERENCES CUSTOMER(CUS_ID));\"\"\"\ncursor.execute(table_created)",
      "metadata": {
        "id": "967b718f",
        "trusted": true
      },
      "execution_count": null,
      "outputs": [
        {
          "ename": "<class 'NameError'>",
          "evalue": "name 'cursor' is not defined",
          "traceback": [
            "\u001b[0;31m---------------------------------------------------------------------------\u001b[0m",
            "\u001b[0;31mNameError\u001b[0m                                 Traceback (most recent call last)",
            "Input \u001b[0;32mIn [5]\u001b[0m, in \u001b[0;36m<cell line: 24>\u001b[0;34m()\u001b[0m\n\u001b[1;32m      1\u001b[0m table_created \u001b[38;5;241m=\u001b[39m \u001b[38;5;124m\"\"\"\u001b[39m\u001b[38;5;124mcreate table Supplier(SUPP_ID int primary key, SUPP_NAME varchar(50), SUPP_CITY varchar(50),\u001b[39m\n\u001b[1;32m      2\u001b[0m \u001b[38;5;124m                   SUPP_PHONE varchar(10));\u001b[39m\n\u001b[1;32m      3\u001b[0m \u001b[38;5;124m                   \u001b[39m\n\u001b[0;32m   (...)\u001b[0m\n\u001b[1;32m     22\u001b[0m \u001b[38;5;124m                   RAT_RATSTARS INT NOT NULL, FOREIGN KEY (SUPP_ID) REFERENCES SUPPLIER (SUPP_ID),\u001b[39m\n\u001b[1;32m     23\u001b[0m \u001b[38;5;124m                   FOREIGN KEY (CUS_ID) REFERENCES CUSTOMER(CUS_ID));\u001b[39m\u001b[38;5;124m\"\"\"\u001b[39m\n\u001b[0;32m---> 24\u001b[0m \u001b[43mcursor\u001b[49m\u001b[38;5;241m.\u001b[39mexecute(table_created)\n",
            "\u001b[0;31mNameError\u001b[0m: name 'cursor' is not defined"
          ],
          "output_type": "error"
        }
      ],
      "id": "967b718f"
    },
    {
      "cell_type": "markdown",
      "source": "### Q2. Insert the following data in the table created above\n#### `Note:` If you are getting any error while inserting the data into tables, Kindly close the connection and reconnect\n\n#### Table:  supplier\n| SUPP_ID | SUPP_NAME | SUPP_CITY | SUPP_PHONE |\n| --- | --- | --- | --- | \n| 1 | Rajesh Retails | Delhi | 1234567890 |\n| 2 | Appario Ltd. | Mumbai | 258963147032 | \n| 3 | Knome products | Bangalore | 9785462315 |\n| 4 | Bansal Retails | Kochi | 8975463285 |\n| 5 | Mittal Ltd. | Lucknow | 7898456532 |",
      "metadata": {
        "id": "1f653731"
      },
      "id": "1f653731"
    },
    {
      "cell_type": "code",
      "source": "# insert into \"supplier\" table\ninsert_supp_details = \"\"\"insert into supplier values(%s, %s, %s, %s)\"\"\"\n\nval = [(1, 'Rajesh Retails', 'Delhi', 1234567890), (2, 'Appario Ltd.', 'Mumbai', 2589631470),\n       (3, 'Knome products', 'Bangalore', 9785462315), (4, 'Bansal Retails', 'Kochi', 8975463285),\n       (5, 'Mittal Ltd.', 'Lucknow', 7898456532)]\ncursor.executemany(insert_supp_details, val)\nconnection.commit()",
      "metadata": {
        "id": "f6dddd07",
        "trusted": true
      },
      "execution_count": null,
      "outputs": [
        {
          "ename": "<class 'NameError'>",
          "evalue": "name 'cursor' is not defined",
          "traceback": [
            "\u001b[0;31m---------------------------------------------------------------------------\u001b[0m",
            "\u001b[0;31mNameError\u001b[0m                                 Traceback (most recent call last)",
            "Input \u001b[0;32mIn [6]\u001b[0m, in \u001b[0;36m<cell line: 7>\u001b[0;34m()\u001b[0m\n\u001b[1;32m      2\u001b[0m insert_supp_details \u001b[38;5;241m=\u001b[39m \u001b[38;5;124m\"\"\"\u001b[39m\u001b[38;5;124minsert into supplier values(\u001b[39m\u001b[38;5;132;01m%s\u001b[39;00m\u001b[38;5;124m, \u001b[39m\u001b[38;5;132;01m%s\u001b[39;00m\u001b[38;5;124m, \u001b[39m\u001b[38;5;132;01m%s\u001b[39;00m\u001b[38;5;124m, \u001b[39m\u001b[38;5;132;01m%s\u001b[39;00m\u001b[38;5;124m)\u001b[39m\u001b[38;5;124m\"\"\"\u001b[39m\n\u001b[1;32m      4\u001b[0m val \u001b[38;5;241m=\u001b[39m [(\u001b[38;5;241m1\u001b[39m, \u001b[38;5;124m'\u001b[39m\u001b[38;5;124mRajesh Retails\u001b[39m\u001b[38;5;124m'\u001b[39m, \u001b[38;5;124m'\u001b[39m\u001b[38;5;124mDelhi\u001b[39m\u001b[38;5;124m'\u001b[39m, \u001b[38;5;241m1234567890\u001b[39m), (\u001b[38;5;241m2\u001b[39m, \u001b[38;5;124m'\u001b[39m\u001b[38;5;124mAppario Ltd.\u001b[39m\u001b[38;5;124m'\u001b[39m, \u001b[38;5;124m'\u001b[39m\u001b[38;5;124mMumbai\u001b[39m\u001b[38;5;124m'\u001b[39m, \u001b[38;5;241m2589631470\u001b[39m),\n\u001b[1;32m      5\u001b[0m        (\u001b[38;5;241m3\u001b[39m, \u001b[38;5;124m'\u001b[39m\u001b[38;5;124mKnome products\u001b[39m\u001b[38;5;124m'\u001b[39m, \u001b[38;5;124m'\u001b[39m\u001b[38;5;124mBangalore\u001b[39m\u001b[38;5;124m'\u001b[39m, \u001b[38;5;241m9785462315\u001b[39m), (\u001b[38;5;241m4\u001b[39m, \u001b[38;5;124m'\u001b[39m\u001b[38;5;124mBansal Retails\u001b[39m\u001b[38;5;124m'\u001b[39m, \u001b[38;5;124m'\u001b[39m\u001b[38;5;124mKochi\u001b[39m\u001b[38;5;124m'\u001b[39m, \u001b[38;5;241m8975463285\u001b[39m),\n\u001b[1;32m      6\u001b[0m        (\u001b[38;5;241m5\u001b[39m, \u001b[38;5;124m'\u001b[39m\u001b[38;5;124mMittal Ltd.\u001b[39m\u001b[38;5;124m'\u001b[39m, \u001b[38;5;124m'\u001b[39m\u001b[38;5;124mLucknow\u001b[39m\u001b[38;5;124m'\u001b[39m, \u001b[38;5;241m7898456532\u001b[39m)]\n\u001b[0;32m----> 7\u001b[0m \u001b[43mcursor\u001b[49m\u001b[38;5;241m.\u001b[39mexecutemany(insert_supp_details, val)\n\u001b[1;32m      8\u001b[0m connection\u001b[38;5;241m.\u001b[39mcommit()\n",
            "\u001b[0;31mNameError\u001b[0m: name 'cursor' is not defined"
          ],
          "output_type": "error"
        }
      ],
      "id": "f6dddd07"
    },
    {
      "cell_type": "markdown",
      "source": "#### Table:  customer\n| CUS_ID | CUS_NAME | SUPP_PHONE | CUS_CITY | CUS_GENDER\n| --- | --- | --- | --- | --- |\n| 1 | AAKASH | 9999999999 | DELHI | M |\n| 2 | AMAN | 9785463215 | NOIDA | M |\n| 3 | NEHA | 9999999998 | MUMBAI | F |\n| 4 | MEGHA | 9994562399 | KOLKATA | F |\n| 5 | PULKIT | 7895999999 | LUCKNOW | M |",
      "metadata": {
        "id": "e8a070a6"
      },
      "id": "e8a070a6"
    },
    {
      "cell_type": "code",
      "source": "# insert into \"customer\" table\ninsert_cust_details = \"\"\"insert into customer values(%s, %s, %s, %s, %s)\"\"\"\n\nval = [(1, 'AAKASH', 9999999999, 'DELHI', 'M'), (2, 'AMAN', 9785463215, 'NOIDA', 'M'), (3, 'NEHA', 9999999998, 'MUMBAI', 'F'),\n       (4, 'MEGHA', 9994562399, 'KOLKATA', 'F'), (5, 'PULKIT', 7895999999, 'LUCKNOW', 'M')]\n\ncursor.executemany(insert_cust_details, val)\nconnection.commit()",
      "metadata": {
        "id": "15a4ee87",
        "trusted": true
      },
      "execution_count": null,
      "outputs": [
        {
          "ename": "<class 'NameError'>",
          "evalue": "name 'cursor' is not defined",
          "traceback": [
            "\u001b[0;31m---------------------------------------------------------------------------\u001b[0m",
            "\u001b[0;31mNameError\u001b[0m                                 Traceback (most recent call last)",
            "Input \u001b[0;32mIn [7]\u001b[0m, in \u001b[0;36m<cell line: 7>\u001b[0;34m()\u001b[0m\n\u001b[1;32m      2\u001b[0m insert_cust_details \u001b[38;5;241m=\u001b[39m \u001b[38;5;124m\"\"\"\u001b[39m\u001b[38;5;124minsert into customer values(\u001b[39m\u001b[38;5;132;01m%s\u001b[39;00m\u001b[38;5;124m, \u001b[39m\u001b[38;5;132;01m%s\u001b[39;00m\u001b[38;5;124m, \u001b[39m\u001b[38;5;132;01m%s\u001b[39;00m\u001b[38;5;124m, \u001b[39m\u001b[38;5;132;01m%s\u001b[39;00m\u001b[38;5;124m, \u001b[39m\u001b[38;5;132;01m%s\u001b[39;00m\u001b[38;5;124m)\u001b[39m\u001b[38;5;124m\"\"\"\u001b[39m\n\u001b[1;32m      4\u001b[0m val \u001b[38;5;241m=\u001b[39m [(\u001b[38;5;241m1\u001b[39m, \u001b[38;5;124m'\u001b[39m\u001b[38;5;124mAAKASH\u001b[39m\u001b[38;5;124m'\u001b[39m, \u001b[38;5;241m9999999999\u001b[39m, \u001b[38;5;124m'\u001b[39m\u001b[38;5;124mDELHI\u001b[39m\u001b[38;5;124m'\u001b[39m, \u001b[38;5;124m'\u001b[39m\u001b[38;5;124mM\u001b[39m\u001b[38;5;124m'\u001b[39m), (\u001b[38;5;241m2\u001b[39m, \u001b[38;5;124m'\u001b[39m\u001b[38;5;124mAMAN\u001b[39m\u001b[38;5;124m'\u001b[39m, \u001b[38;5;241m9785463215\u001b[39m, \u001b[38;5;124m'\u001b[39m\u001b[38;5;124mNOIDA\u001b[39m\u001b[38;5;124m'\u001b[39m, \u001b[38;5;124m'\u001b[39m\u001b[38;5;124mM\u001b[39m\u001b[38;5;124m'\u001b[39m), (\u001b[38;5;241m3\u001b[39m, \u001b[38;5;124m'\u001b[39m\u001b[38;5;124mNEHA\u001b[39m\u001b[38;5;124m'\u001b[39m, \u001b[38;5;241m9999999998\u001b[39m, \u001b[38;5;124m'\u001b[39m\u001b[38;5;124mMUMBAI\u001b[39m\u001b[38;5;124m'\u001b[39m, \u001b[38;5;124m'\u001b[39m\u001b[38;5;124mF\u001b[39m\u001b[38;5;124m'\u001b[39m),\n\u001b[1;32m      5\u001b[0m        (\u001b[38;5;241m4\u001b[39m, \u001b[38;5;124m'\u001b[39m\u001b[38;5;124mMEGHA\u001b[39m\u001b[38;5;124m'\u001b[39m, \u001b[38;5;241m9994562399\u001b[39m, \u001b[38;5;124m'\u001b[39m\u001b[38;5;124mKOLKATA\u001b[39m\u001b[38;5;124m'\u001b[39m, \u001b[38;5;124m'\u001b[39m\u001b[38;5;124mF\u001b[39m\u001b[38;5;124m'\u001b[39m), (\u001b[38;5;241m5\u001b[39m, \u001b[38;5;124m'\u001b[39m\u001b[38;5;124mPULKIT\u001b[39m\u001b[38;5;124m'\u001b[39m, \u001b[38;5;241m7895999999\u001b[39m, \u001b[38;5;124m'\u001b[39m\u001b[38;5;124mLUCKNOW\u001b[39m\u001b[38;5;124m'\u001b[39m, \u001b[38;5;124m'\u001b[39m\u001b[38;5;124mM\u001b[39m\u001b[38;5;124m'\u001b[39m)]\n\u001b[0;32m----> 7\u001b[0m \u001b[43mcursor\u001b[49m\u001b[38;5;241m.\u001b[39mexecutemany(insert_cust_details, val)\n\u001b[1;32m      8\u001b[0m connection\u001b[38;5;241m.\u001b[39mcommit()\n",
            "\u001b[0;31mNameError\u001b[0m: name 'cursor' is not defined"
          ],
          "output_type": "error"
        }
      ],
      "id": "15a4ee87"
    },
    {
      "cell_type": "markdown",
      "source": "#### Table:  category\n| CAT_ID | CAT_NAME | \n| --- | --- |  \n| 1 | BOOKS |\n| 2 | GAMES |  \n| 3 | GROCERIES | \n| 4 | ELECTRONICS | \n| 5 | CLOTHES | ",
      "metadata": {
        "id": "b68bfbc2"
      },
      "id": "b68bfbc2"
    },
    {
      "cell_type": "code",
      "source": "# insert into \"categoty\" table\ninsert_cat_details = \"\"\"insert into category values(%s, %s)\"\"\"\n\nval = [(1, 'BOOKS'), (2, 'GAMES'), (3, 'GROCERIES'), (4, 'ELECTRONICS'), (5, 'CLOTHES')]\n\ncursor.executemany(insert_cat_details, val)\nconnection.commit()",
      "metadata": {
        "id": "05a00abc",
        "trusted": true
      },
      "execution_count": null,
      "outputs": [
        {
          "ename": "<class 'NameError'>",
          "evalue": "name 'cursor' is not defined",
          "traceback": [
            "\u001b[0;31m---------------------------------------------------------------------------\u001b[0m",
            "\u001b[0;31mNameError\u001b[0m                                 Traceback (most recent call last)",
            "Input \u001b[0;32mIn [8]\u001b[0m, in \u001b[0;36m<cell line: 6>\u001b[0;34m()\u001b[0m\n\u001b[1;32m      2\u001b[0m insert_cat_details \u001b[38;5;241m=\u001b[39m \u001b[38;5;124m\"\"\"\u001b[39m\u001b[38;5;124minsert into category values(\u001b[39m\u001b[38;5;132;01m%s\u001b[39;00m\u001b[38;5;124m, \u001b[39m\u001b[38;5;132;01m%s\u001b[39;00m\u001b[38;5;124m)\u001b[39m\u001b[38;5;124m\"\"\"\u001b[39m\n\u001b[1;32m      4\u001b[0m val \u001b[38;5;241m=\u001b[39m [(\u001b[38;5;241m1\u001b[39m, \u001b[38;5;124m'\u001b[39m\u001b[38;5;124mBOOKS\u001b[39m\u001b[38;5;124m'\u001b[39m), (\u001b[38;5;241m2\u001b[39m, \u001b[38;5;124m'\u001b[39m\u001b[38;5;124mGAMES\u001b[39m\u001b[38;5;124m'\u001b[39m), (\u001b[38;5;241m3\u001b[39m, \u001b[38;5;124m'\u001b[39m\u001b[38;5;124mGROCERIES\u001b[39m\u001b[38;5;124m'\u001b[39m), (\u001b[38;5;241m4\u001b[39m, \u001b[38;5;124m'\u001b[39m\u001b[38;5;124mELECTRONICS\u001b[39m\u001b[38;5;124m'\u001b[39m), (\u001b[38;5;241m5\u001b[39m, \u001b[38;5;124m'\u001b[39m\u001b[38;5;124mCLOTHES\u001b[39m\u001b[38;5;124m'\u001b[39m)]\n\u001b[0;32m----> 6\u001b[0m \u001b[43mcursor\u001b[49m\u001b[38;5;241m.\u001b[39mexecutemany(insert_cat_details, val)\n\u001b[1;32m      7\u001b[0m connection\u001b[38;5;241m.\u001b[39mcommit()\n",
            "\u001b[0;31mNameError\u001b[0m: name 'cursor' is not defined"
          ],
          "output_type": "error"
        }
      ],
      "id": "05a00abc"
    },
    {
      "cell_type": "markdown",
      "source": "#### Table:  product\n| PRO_ID | PRO_NAME | PRO_DESC | CAT_ID |\n| --- | --- | --- | --- | \n| 1 | GTA V | DFJDJFDJFDJFDJFJF | 2 |\n| 2 | TSHIRT | DFDFJDFJDKFD | 5 | \n| 3 | ROG LAPTOP | DFNTTNTNTERND | 4 |\n| 4 | OATS | REURENTBTOTH | 3 |\n| 5 | HARRY POTTER | NBEMCTHTJTH | 1 |\n",
      "metadata": {
        "id": "eb3bc592"
      },
      "id": "eb3bc592"
    },
    {
      "cell_type": "code",
      "source": "# insert into \"product\" table\ninsert_prod = \"\"\"insert into product values(%s, %s, %s, %s)\"\"\"\n\nval = [(1, 'GTA V', 'DFJDJFDJFDJFDJFJF', 2), (2, 'TSHIRT', 'DFDFJDFJDKFD', 5), (3, 'ROG LAPTOP', 'DFNTTNTNTERND', 4),\n       (4, 'OATS', 'REURENTBTOTH', 3), (5, 'HARRY POTTER', 'NBEMCTHTJTH', 1)]\n\ncursor.executemany(insert_prod, val)\nconnection.commit()",
      "metadata": {
        "id": "cdfbdfad",
        "trusted": true
      },
      "execution_count": null,
      "outputs": [
        {
          "ename": "<class 'NameError'>",
          "evalue": "name 'cursor' is not defined",
          "traceback": [
            "\u001b[0;31m---------------------------------------------------------------------------\u001b[0m",
            "\u001b[0;31mNameError\u001b[0m                                 Traceback (most recent call last)",
            "Input \u001b[0;32mIn [9]\u001b[0m, in \u001b[0;36m<cell line: 7>\u001b[0;34m()\u001b[0m\n\u001b[1;32m      2\u001b[0m insert_prod \u001b[38;5;241m=\u001b[39m \u001b[38;5;124m\"\"\"\u001b[39m\u001b[38;5;124minsert into product values(\u001b[39m\u001b[38;5;132;01m%s\u001b[39;00m\u001b[38;5;124m, \u001b[39m\u001b[38;5;132;01m%s\u001b[39;00m\u001b[38;5;124m, \u001b[39m\u001b[38;5;132;01m%s\u001b[39;00m\u001b[38;5;124m, \u001b[39m\u001b[38;5;132;01m%s\u001b[39;00m\u001b[38;5;124m)\u001b[39m\u001b[38;5;124m\"\"\"\u001b[39m\n\u001b[1;32m      4\u001b[0m val \u001b[38;5;241m=\u001b[39m [(\u001b[38;5;241m1\u001b[39m, \u001b[38;5;124m'\u001b[39m\u001b[38;5;124mGTA V\u001b[39m\u001b[38;5;124m'\u001b[39m, \u001b[38;5;124m'\u001b[39m\u001b[38;5;124mDFJDJFDJFDJFDJFJF\u001b[39m\u001b[38;5;124m'\u001b[39m, \u001b[38;5;241m2\u001b[39m), (\u001b[38;5;241m2\u001b[39m, \u001b[38;5;124m'\u001b[39m\u001b[38;5;124mTSHIRT\u001b[39m\u001b[38;5;124m'\u001b[39m, \u001b[38;5;124m'\u001b[39m\u001b[38;5;124mDFDFJDFJDKFD\u001b[39m\u001b[38;5;124m'\u001b[39m, \u001b[38;5;241m5\u001b[39m), (\u001b[38;5;241m3\u001b[39m, \u001b[38;5;124m'\u001b[39m\u001b[38;5;124mROG LAPTOP\u001b[39m\u001b[38;5;124m'\u001b[39m, \u001b[38;5;124m'\u001b[39m\u001b[38;5;124mDFNTTNTNTERND\u001b[39m\u001b[38;5;124m'\u001b[39m, \u001b[38;5;241m4\u001b[39m),\n\u001b[1;32m      5\u001b[0m        (\u001b[38;5;241m4\u001b[39m, \u001b[38;5;124m'\u001b[39m\u001b[38;5;124mOATS\u001b[39m\u001b[38;5;124m'\u001b[39m, \u001b[38;5;124m'\u001b[39m\u001b[38;5;124mREURENTBTOTH\u001b[39m\u001b[38;5;124m'\u001b[39m, \u001b[38;5;241m3\u001b[39m), (\u001b[38;5;241m5\u001b[39m, \u001b[38;5;124m'\u001b[39m\u001b[38;5;124mHARRY POTTER\u001b[39m\u001b[38;5;124m'\u001b[39m, \u001b[38;5;124m'\u001b[39m\u001b[38;5;124mNBEMCTHTJTH\u001b[39m\u001b[38;5;124m'\u001b[39m, \u001b[38;5;241m1\u001b[39m)]\n\u001b[0;32m----> 7\u001b[0m \u001b[43mcursor\u001b[49m\u001b[38;5;241m.\u001b[39mexecutemany(insert_prod, val)\n\u001b[1;32m      8\u001b[0m connection\u001b[38;5;241m.\u001b[39mcommit()\n",
            "\u001b[0;31mNameError\u001b[0m: name 'cursor' is not defined"
          ],
          "output_type": "error"
        }
      ],
      "id": "cdfbdfad"
    },
    {
      "cell_type": "markdown",
      "source": "#### Table:  product_details\n| PROD_ID | PRO_ID | SUPP_ID | PROD_PRICE |\n| --- | --- | --- | --- | \n| 1 | 1 | 2 | 1500 |\n| 2 | 3 | 5 | 30000 | \n| 3 | 5 | 1 | 3000 |\n| 4 | 2 | 3 | 2500 |\n| 5 | 4 | 1 | 1000 |",
      "metadata": {
        "id": "cfa8a47d"
      },
      "id": "cfa8a47d"
    },
    {
      "cell_type": "code",
      "source": "# insert into \"product_details\" table\ninsert_prod_details = \"\"\"insert into product_details values(%s, %s, %s, %s)\"\"\"\n\nval = [(1, 1, 2, 1500), (2, 3, 5, 30000), (3, 5, 1, 3000), (4, 2, 3, 2500), (5, 4, 1, 1000)]\n\ncursor.executemany(insert_prod_details, val)\nconnection.commit()",
      "metadata": {
        "id": "c18ea964",
        "trusted": true
      },
      "execution_count": null,
      "outputs": [
        {
          "ename": "<class 'NameError'>",
          "evalue": "name 'cursor' is not defined",
          "traceback": [
            "\u001b[0;31m---------------------------------------------------------------------------\u001b[0m",
            "\u001b[0;31mNameError\u001b[0m                                 Traceback (most recent call last)",
            "Input \u001b[0;32mIn [10]\u001b[0m, in \u001b[0;36m<cell line: 6>\u001b[0;34m()\u001b[0m\n\u001b[1;32m      2\u001b[0m insert_prod_details \u001b[38;5;241m=\u001b[39m \u001b[38;5;124m\"\"\"\u001b[39m\u001b[38;5;124minsert into product_details values(\u001b[39m\u001b[38;5;132;01m%s\u001b[39;00m\u001b[38;5;124m, \u001b[39m\u001b[38;5;132;01m%s\u001b[39;00m\u001b[38;5;124m, \u001b[39m\u001b[38;5;132;01m%s\u001b[39;00m\u001b[38;5;124m, \u001b[39m\u001b[38;5;132;01m%s\u001b[39;00m\u001b[38;5;124m)\u001b[39m\u001b[38;5;124m\"\"\"\u001b[39m\n\u001b[1;32m      4\u001b[0m val \u001b[38;5;241m=\u001b[39m [(\u001b[38;5;241m1\u001b[39m, \u001b[38;5;241m1\u001b[39m, \u001b[38;5;241m2\u001b[39m, \u001b[38;5;241m1500\u001b[39m), (\u001b[38;5;241m2\u001b[39m, \u001b[38;5;241m3\u001b[39m, \u001b[38;5;241m5\u001b[39m, \u001b[38;5;241m30000\u001b[39m), (\u001b[38;5;241m3\u001b[39m, \u001b[38;5;241m5\u001b[39m, \u001b[38;5;241m1\u001b[39m, \u001b[38;5;241m3000\u001b[39m), (\u001b[38;5;241m4\u001b[39m, \u001b[38;5;241m2\u001b[39m, \u001b[38;5;241m3\u001b[39m, \u001b[38;5;241m2500\u001b[39m), (\u001b[38;5;241m5\u001b[39m, \u001b[38;5;241m4\u001b[39m, \u001b[38;5;241m1\u001b[39m, \u001b[38;5;241m1000\u001b[39m)]\n\u001b[0;32m----> 6\u001b[0m \u001b[43mcursor\u001b[49m\u001b[38;5;241m.\u001b[39mexecutemany(insert_prod_details, val)\n\u001b[1;32m      7\u001b[0m connection\u001b[38;5;241m.\u001b[39mcommit()\n",
            "\u001b[0;31mNameError\u001b[0m: name 'cursor' is not defined"
          ],
          "output_type": "error"
        }
      ],
      "id": "c18ea964"
    },
    {
      "cell_type": "markdown",
      "source": "#### Table:  orders\n| ORD_ID | ORD_AMOUNT | ORD_DATE | CUS_ID | PROD_ID\n| --- | --- | --- | --- | --- |\n| 20 | 1500 | 2021-10-12 | 3 | 5 |\n| 25 | 30500 | 2021-09-16 | 5 | 2 |\n| 26 | 2000 | 2021-10-05 | 1 | 1 |\n| 30 | 3500 | 2021-08-16 | 4 | 3 |\n| 50 | 2000 | 2021-10-06 | 2 | 1 |",
      "metadata": {
        "id": "1df49086"
      },
      "id": "1df49086"
    },
    {
      "cell_type": "code",
      "source": "# insert into \"orders\" table\ninsert_order_details = \"\"\"insert into orders values(%s, %s, %s, %s, %s);\"\"\"\n\nval = [(20, 1500, '2021-10-12', 3, 5), (25, 30500, '2021-9-16', 5, 2), (26, 2000, '2021-10-5', 1, 1),\n       (30, 3500, '2021-8-16', 4, 3), (50, 2000, '2021-10-6', 2, 1)]\n\ncursor.executemany(insert_order_details, val)\nconnection.commit()",
      "metadata": {
        "id": "0d97dc92",
        "trusted": true
      },
      "execution_count": null,
      "outputs": [
        {
          "ename": "<class 'NameError'>",
          "evalue": "name 'cursor' is not defined",
          "traceback": [
            "\u001b[0;31m---------------------------------------------------------------------------\u001b[0m",
            "\u001b[0;31mNameError\u001b[0m                                 Traceback (most recent call last)",
            "Input \u001b[0;32mIn [11]\u001b[0m, in \u001b[0;36m<cell line: 7>\u001b[0;34m()\u001b[0m\n\u001b[1;32m      2\u001b[0m insert_order_details \u001b[38;5;241m=\u001b[39m \u001b[38;5;124m\"\"\"\u001b[39m\u001b[38;5;124minsert into orders values(\u001b[39m\u001b[38;5;132;01m%s\u001b[39;00m\u001b[38;5;124m, \u001b[39m\u001b[38;5;132;01m%s\u001b[39;00m\u001b[38;5;124m, \u001b[39m\u001b[38;5;132;01m%s\u001b[39;00m\u001b[38;5;124m, \u001b[39m\u001b[38;5;132;01m%s\u001b[39;00m\u001b[38;5;124m, \u001b[39m\u001b[38;5;132;01m%s\u001b[39;00m\u001b[38;5;124m);\u001b[39m\u001b[38;5;124m\"\"\"\u001b[39m\n\u001b[1;32m      4\u001b[0m val \u001b[38;5;241m=\u001b[39m [(\u001b[38;5;241m20\u001b[39m, \u001b[38;5;241m1500\u001b[39m, \u001b[38;5;124m'\u001b[39m\u001b[38;5;124m2021-10-12\u001b[39m\u001b[38;5;124m'\u001b[39m, \u001b[38;5;241m3\u001b[39m, \u001b[38;5;241m5\u001b[39m), (\u001b[38;5;241m25\u001b[39m, \u001b[38;5;241m30500\u001b[39m, \u001b[38;5;124m'\u001b[39m\u001b[38;5;124m2021-9-16\u001b[39m\u001b[38;5;124m'\u001b[39m, \u001b[38;5;241m5\u001b[39m, \u001b[38;5;241m2\u001b[39m), (\u001b[38;5;241m26\u001b[39m, \u001b[38;5;241m2000\u001b[39m, \u001b[38;5;124m'\u001b[39m\u001b[38;5;124m2021-10-5\u001b[39m\u001b[38;5;124m'\u001b[39m, \u001b[38;5;241m1\u001b[39m, \u001b[38;5;241m1\u001b[39m),\n\u001b[1;32m      5\u001b[0m        (\u001b[38;5;241m30\u001b[39m, \u001b[38;5;241m3500\u001b[39m, \u001b[38;5;124m'\u001b[39m\u001b[38;5;124m2021-8-16\u001b[39m\u001b[38;5;124m'\u001b[39m, \u001b[38;5;241m4\u001b[39m, \u001b[38;5;241m3\u001b[39m), (\u001b[38;5;241m50\u001b[39m, \u001b[38;5;241m2000\u001b[39m, \u001b[38;5;124m'\u001b[39m\u001b[38;5;124m2021-10-6\u001b[39m\u001b[38;5;124m'\u001b[39m, \u001b[38;5;241m2\u001b[39m, \u001b[38;5;241m1\u001b[39m)]\n\u001b[0;32m----> 7\u001b[0m \u001b[43mcursor\u001b[49m\u001b[38;5;241m.\u001b[39mexecutemany(insert_order_details, val)\n\u001b[1;32m      8\u001b[0m connection\u001b[38;5;241m.\u001b[39mcommit()\n",
            "\u001b[0;31mNameError\u001b[0m: name 'cursor' is not defined"
          ],
          "output_type": "error"
        }
      ],
      "id": "0d97dc92"
    },
    {
      "cell_type": "markdown",
      "source": "#### Table: rating\n| RAT_ID | CUS_ID | SUPP_ID | RAT_RATSTARS |\n| --- | --- | --- | --- | \n| 1 | 2 | 2 | 4 |\n| 2 | 3 | 4 | 3 | \n| 3 | 5 | 1 | 5 |\n| 4 | 1 | 3 | 2 |\n| 5 | 4 | 5 | 4 |",
      "metadata": {
        "id": "75b8ce5f"
      },
      "id": "75b8ce5f"
    },
    {
      "cell_type": "code",
      "source": "# insert into \"rating\" table\ninsert_ratings_details = \"\"\"insert into ratings values(%s, %s, %s, %s)\"\"\"\n\nval = [(1, 2, 2, 4), (2, 3, 4, 3), (3, 5, 1, 5), (4, 1, 3, 2), (5, 4, 5, 4)]\n\ncursor.executemany(insert_ratings_details, val)\nconnection.commit()",
      "metadata": {
        "id": "6d5f1e18",
        "trusted": true
      },
      "execution_count": null,
      "outputs": [
        {
          "ename": "<class 'NameError'>",
          "evalue": "name 'cursor' is not defined",
          "traceback": [
            "\u001b[0;31m---------------------------------------------------------------------------\u001b[0m",
            "\u001b[0;31mNameError\u001b[0m                                 Traceback (most recent call last)",
            "Input \u001b[0;32mIn [12]\u001b[0m, in \u001b[0;36m<cell line: 6>\u001b[0;34m()\u001b[0m\n\u001b[1;32m      2\u001b[0m insert_ratings_details \u001b[38;5;241m=\u001b[39m \u001b[38;5;124m\"\"\"\u001b[39m\u001b[38;5;124minsert into ratings values(\u001b[39m\u001b[38;5;132;01m%s\u001b[39;00m\u001b[38;5;124m, \u001b[39m\u001b[38;5;132;01m%s\u001b[39;00m\u001b[38;5;124m, \u001b[39m\u001b[38;5;132;01m%s\u001b[39;00m\u001b[38;5;124m, \u001b[39m\u001b[38;5;132;01m%s\u001b[39;00m\u001b[38;5;124m)\u001b[39m\u001b[38;5;124m\"\"\"\u001b[39m\n\u001b[1;32m      4\u001b[0m val \u001b[38;5;241m=\u001b[39m [(\u001b[38;5;241m1\u001b[39m, \u001b[38;5;241m2\u001b[39m, \u001b[38;5;241m2\u001b[39m, \u001b[38;5;241m4\u001b[39m), (\u001b[38;5;241m2\u001b[39m, \u001b[38;5;241m3\u001b[39m, \u001b[38;5;241m4\u001b[39m, \u001b[38;5;241m3\u001b[39m), (\u001b[38;5;241m3\u001b[39m, \u001b[38;5;241m5\u001b[39m, \u001b[38;5;241m1\u001b[39m, \u001b[38;5;241m5\u001b[39m), (\u001b[38;5;241m4\u001b[39m, \u001b[38;5;241m1\u001b[39m, \u001b[38;5;241m3\u001b[39m, \u001b[38;5;241m2\u001b[39m), (\u001b[38;5;241m5\u001b[39m, \u001b[38;5;241m4\u001b[39m, \u001b[38;5;241m5\u001b[39m, \u001b[38;5;241m4\u001b[39m)]\n\u001b[0;32m----> 6\u001b[0m \u001b[43mcursor\u001b[49m\u001b[38;5;241m.\u001b[39mexecutemany(insert_ratings_details, val)\n\u001b[1;32m      7\u001b[0m connection\u001b[38;5;241m.\u001b[39mcommit()\n",
            "\u001b[0;31mNameError\u001b[0m: name 'cursor' is not defined"
          ],
          "output_type": "error"
        }
      ],
      "id": "6d5f1e18"
    },
    {
      "cell_type": "markdown",
      "source": "### Q3) Display the number of the customer group by their genders who have placed any order of amount greater than or equal to Rs.3000.",
      "metadata": {
        "id": "b59361c3"
      },
      "id": "b59361c3"
    },
    {
      "cell_type": "code",
      "source": "qst1 = \"\"\"select customer.cus_gender,count(customer.cus_gender) as count \n            from customer inner join `orders` on customer.cus_id=`orders`.cus_id \n            where `orders`.ord_amount>=3000 group by customer.cus_gender;\"\"\"\ncursor.execute(qst1)\noutput = cursor.fetchall()\noutput_df = pd.DataFrame(output, columns=['Gender', 'Count'])\noutput_df",
      "metadata": {
        "id": "fcafaf3c",
        "trusted": true
      },
      "execution_count": null,
      "outputs": [
        {
          "ename": "<class 'NameError'>",
          "evalue": "name 'cursor' is not defined",
          "traceback": [
            "\u001b[0;31m---------------------------------------------------------------------------\u001b[0m",
            "\u001b[0;31mNameError\u001b[0m                                 Traceback (most recent call last)",
            "Input \u001b[0;32mIn [13]\u001b[0m, in \u001b[0;36m<cell line: 4>\u001b[0;34m()\u001b[0m\n\u001b[1;32m      1\u001b[0m qst1 \u001b[38;5;241m=\u001b[39m \u001b[38;5;124m\"\"\"\u001b[39m\u001b[38;5;124mselect customer.cus_gender,count(customer.cus_gender) as count \u001b[39m\n\u001b[1;32m      2\u001b[0m \u001b[38;5;124m            from customer inner join `orders` on customer.cus_id=`orders`.cus_id \u001b[39m\n\u001b[1;32m      3\u001b[0m \u001b[38;5;124m            where `orders`.ord_amount>=3000 group by customer.cus_gender;\u001b[39m\u001b[38;5;124m\"\"\"\u001b[39m\n\u001b[0;32m----> 4\u001b[0m \u001b[43mcursor\u001b[49m\u001b[38;5;241m.\u001b[39mexecute(qst1)\n\u001b[1;32m      5\u001b[0m output \u001b[38;5;241m=\u001b[39m cursor\u001b[38;5;241m.\u001b[39mfetchall()\n\u001b[1;32m      6\u001b[0m output_df \u001b[38;5;241m=\u001b[39m pd\u001b[38;5;241m.\u001b[39mDataFrame(output, columns\u001b[38;5;241m=\u001b[39m[\u001b[38;5;124m'\u001b[39m\u001b[38;5;124mGender\u001b[39m\u001b[38;5;124m'\u001b[39m, \u001b[38;5;124m'\u001b[39m\u001b[38;5;124mCount\u001b[39m\u001b[38;5;124m'\u001b[39m])\n",
            "\u001b[0;31mNameError\u001b[0m: name 'cursor' is not defined"
          ],
          "output_type": "error"
        }
      ],
      "id": "fcafaf3c"
    },
    {
      "cell_type": "markdown",
      "source": "### Q4) Display all the order along with product name ordered by a customer having Customer_Id=2;",
      "metadata": {
        "id": "e49e04f5"
      },
      "id": "e49e04f5"
    },
    {
      "cell_type": "code",
      "source": "qst2 = \"\"\"select * from product where pro_id = (select product_details.pro_id from product_details inner join orders on\n        orders.prod_id = product_details.prod_id where orders.cus_id = 2); \"\"\"\ncursor.execute(qst2)\noutput = cursor.fetchall()\noutput_df = pd.DataFrame(output, columns=['Pro_Id', 'Pro_Name', 'Pro_Desc', 'Cat_Id'])\noutput_df",
      "metadata": {
        "id": "9dcb7883",
        "trusted": true
      },
      "execution_count": null,
      "outputs": [
        {
          "ename": "<class 'NameError'>",
          "evalue": "name 'cursor' is not defined",
          "traceback": [
            "\u001b[0;31m---------------------------------------------------------------------------\u001b[0m",
            "\u001b[0;31mNameError\u001b[0m                                 Traceback (most recent call last)",
            "Input \u001b[0;32mIn [14]\u001b[0m, in \u001b[0;36m<cell line: 3>\u001b[0;34m()\u001b[0m\n\u001b[1;32m      1\u001b[0m qst2 \u001b[38;5;241m=\u001b[39m \u001b[38;5;124m\"\"\"\u001b[39m\u001b[38;5;124mselect * from product where pro_id = (select product_details.pro_id from product_details inner join orders on\u001b[39m\n\u001b[1;32m      2\u001b[0m \u001b[38;5;124m        orders.prod_id = product_details.prod_id where orders.cus_id = 2); \u001b[39m\u001b[38;5;124m\"\"\"\u001b[39m\n\u001b[0;32m----> 3\u001b[0m \u001b[43mcursor\u001b[49m\u001b[38;5;241m.\u001b[39mexecute(qst2)\n\u001b[1;32m      4\u001b[0m output \u001b[38;5;241m=\u001b[39m cursor\u001b[38;5;241m.\u001b[39mfetchall()\n\u001b[1;32m      5\u001b[0m output_df \u001b[38;5;241m=\u001b[39m pd\u001b[38;5;241m.\u001b[39mDataFrame(output, columns\u001b[38;5;241m=\u001b[39m[\u001b[38;5;124m'\u001b[39m\u001b[38;5;124mPro_Id\u001b[39m\u001b[38;5;124m'\u001b[39m, \u001b[38;5;124m'\u001b[39m\u001b[38;5;124mPro_Name\u001b[39m\u001b[38;5;124m'\u001b[39m, \u001b[38;5;124m'\u001b[39m\u001b[38;5;124mPro_Desc\u001b[39m\u001b[38;5;124m'\u001b[39m, \u001b[38;5;124m'\u001b[39m\u001b[38;5;124mCat_Id\u001b[39m\u001b[38;5;124m'\u001b[39m])\n",
            "\u001b[0;31mNameError\u001b[0m: name 'cursor' is not defined"
          ],
          "output_type": "error"
        }
      ],
      "id": "9dcb7883"
    },
    {
      "cell_type": "markdown",
      "source": "### Q5) Display the Supplier details who can supply more than one product.",
      "metadata": {
        "id": "3a33398e"
      },
      "id": "3a33398e"
    },
    {
      "cell_type": "code",
      "source": "qst3 = \"\"\"select supplier.* from supplier inner join product_details on product_details.supp_id = supplier.supp_id group by \n          product_details.supp_id having count(product_details.supp_id)>1;\"\"\"\ncursor.execute(qst3)\noutput = cursor.fetchall()\noutput_df = pd.DataFrame(output, columns=['Supp_id', 'Supp_Name', 'Supp_City', 'Supp_Phone'])\noutput_df",
      "metadata": {
        "id": "e933b979",
        "trusted": true
      },
      "execution_count": null,
      "outputs": [
        {
          "ename": "<class 'NameError'>",
          "evalue": "name 'cursor' is not defined",
          "traceback": [
            "\u001b[0;31m---------------------------------------------------------------------------\u001b[0m",
            "\u001b[0;31mNameError\u001b[0m                                 Traceback (most recent call last)",
            "Input \u001b[0;32mIn [15]\u001b[0m, in \u001b[0;36m<cell line: 3>\u001b[0;34m()\u001b[0m\n\u001b[1;32m      1\u001b[0m qst3 \u001b[38;5;241m=\u001b[39m \u001b[38;5;124m\"\"\"\u001b[39m\u001b[38;5;124mselect supplier.* from supplier inner join product_details on product_details.supp_id = supplier.supp_id group by \u001b[39m\n\u001b[1;32m      2\u001b[0m \u001b[38;5;124m          product_details.supp_id having count(product_details.supp_id)>1;\u001b[39m\u001b[38;5;124m\"\"\"\u001b[39m\n\u001b[0;32m----> 3\u001b[0m \u001b[43mcursor\u001b[49m\u001b[38;5;241m.\u001b[39mexecute(qst3)\n\u001b[1;32m      4\u001b[0m output \u001b[38;5;241m=\u001b[39m cursor\u001b[38;5;241m.\u001b[39mfetchall()\n\u001b[1;32m      5\u001b[0m output_df \u001b[38;5;241m=\u001b[39m pd\u001b[38;5;241m.\u001b[39mDataFrame(output, columns\u001b[38;5;241m=\u001b[39m[\u001b[38;5;124m'\u001b[39m\u001b[38;5;124mSupp_id\u001b[39m\u001b[38;5;124m'\u001b[39m, \u001b[38;5;124m'\u001b[39m\u001b[38;5;124mSupp_Name\u001b[39m\u001b[38;5;124m'\u001b[39m, \u001b[38;5;124m'\u001b[39m\u001b[38;5;124mSupp_City\u001b[39m\u001b[38;5;124m'\u001b[39m, \u001b[38;5;124m'\u001b[39m\u001b[38;5;124mSupp_Phone\u001b[39m\u001b[38;5;124m'\u001b[39m])\n",
            "\u001b[0;31mNameError\u001b[0m: name 'cursor' is not defined"
          ],
          "output_type": "error"
        }
      ],
      "id": "e933b979"
    },
    {
      "cell_type": "markdown",
      "source": "### Q6) Find the category of the product whose order amount is minimum.",
      "metadata": {
        "id": "5fd319ef"
      },
      "id": "5fd319ef"
    },
    {
      "cell_type": "code",
      "source": "qst4 = \"\"\"select category.* from category where cat_id = (select product.cat_id from orders inner join product on orders.prod_id = product.pro_id \nwhere orders.ord_amount = (select min(ord_amount) from orders));\"\"\"\n\ncursor.execute(qst4)\noutput = cursor.fetchall()\noutput_df = pd.DataFrame(output, columns=[\"Cat_id\", 'Cat_Name'])\noutput_df",
      "metadata": {
        "id": "06f5cb51",
        "trusted": true
      },
      "execution_count": null,
      "outputs": [
        {
          "ename": "<class 'NameError'>",
          "evalue": "name 'cursor' is not defined",
          "traceback": [
            "\u001b[0;31m---------------------------------------------------------------------------\u001b[0m",
            "\u001b[0;31mNameError\u001b[0m                                 Traceback (most recent call last)",
            "Input \u001b[0;32mIn [16]\u001b[0m, in \u001b[0;36m<cell line: 4>\u001b[0;34m()\u001b[0m\n\u001b[1;32m      1\u001b[0m qst4 \u001b[38;5;241m=\u001b[39m \u001b[38;5;124m\"\"\"\u001b[39m\u001b[38;5;124mselect category.* from category where cat_id = (select product.cat_id from orders inner join product on orders.prod_id = product.pro_id \u001b[39m\n\u001b[1;32m      2\u001b[0m \u001b[38;5;124mwhere orders.ord_amount = (select min(ord_amount) from orders));\u001b[39m\u001b[38;5;124m\"\"\"\u001b[39m\n\u001b[0;32m----> 4\u001b[0m \u001b[43mcursor\u001b[49m\u001b[38;5;241m.\u001b[39mexecute(qst4)\n\u001b[1;32m      5\u001b[0m output \u001b[38;5;241m=\u001b[39m cursor\u001b[38;5;241m.\u001b[39mfetchall()\n\u001b[1;32m      6\u001b[0m output_df \u001b[38;5;241m=\u001b[39m pd\u001b[38;5;241m.\u001b[39mDataFrame(output, columns\u001b[38;5;241m=\u001b[39m[\u001b[38;5;124m\"\u001b[39m\u001b[38;5;124mCat_id\u001b[39m\u001b[38;5;124m\"\u001b[39m, \u001b[38;5;124m'\u001b[39m\u001b[38;5;124mCat_Name\u001b[39m\u001b[38;5;124m'\u001b[39m])\n",
            "\u001b[0;31mNameError\u001b[0m: name 'cursor' is not defined"
          ],
          "output_type": "error"
        }
      ],
      "id": "06f5cb51"
    },
    {
      "cell_type": "markdown",
      "source": "### Q7) Display the Id and Name of the Product ordered after “2021-10-05”.",
      "metadata": {
        "id": "107102d4"
      },
      "id": "107102d4"
    },
    {
      "cell_type": "code",
      "source": "qst5 = \"\"\"select pro_id, pro_name from product where pro_id in (select product_details.pro_id from orders inner join\n          product_details on orders.prod_id = product_details.prod_id where orders.ord_date > '2021-10-05');\"\"\"\ncursor.execute(qst5)\noutput = cursor.fetchall()\noutput_df = pd.DataFrame(output, columns = ['Pro_id', 'Pro_Name'])\noutput_df",
      "metadata": {
        "id": "5d3fc7e8",
        "trusted": true
      },
      "execution_count": null,
      "outputs": [
        {
          "ename": "<class 'NameError'>",
          "evalue": "name 'cursor' is not defined",
          "traceback": [
            "\u001b[0;31m---------------------------------------------------------------------------\u001b[0m",
            "\u001b[0;31mNameError\u001b[0m                                 Traceback (most recent call last)",
            "Input \u001b[0;32mIn [17]\u001b[0m, in \u001b[0;36m<cell line: 3>\u001b[0;34m()\u001b[0m\n\u001b[1;32m      1\u001b[0m qst5 \u001b[38;5;241m=\u001b[39m \u001b[38;5;124m\"\"\"\u001b[39m\u001b[38;5;124mselect pro_id, pro_name from product where pro_id in (select product_details.pro_id from orders inner join\u001b[39m\n\u001b[1;32m      2\u001b[0m \u001b[38;5;124m          product_details on orders.prod_id = product_details.prod_id where orders.ord_date > \u001b[39m\u001b[38;5;124m'\u001b[39m\u001b[38;5;124m2021-10-05\u001b[39m\u001b[38;5;124m'\u001b[39m\u001b[38;5;124m);\u001b[39m\u001b[38;5;124m\"\"\"\u001b[39m\n\u001b[0;32m----> 3\u001b[0m \u001b[43mcursor\u001b[49m\u001b[38;5;241m.\u001b[39mexecute(qst5)\n\u001b[1;32m      4\u001b[0m output \u001b[38;5;241m=\u001b[39m cursor\u001b[38;5;241m.\u001b[39mfetchall()\n\u001b[1;32m      5\u001b[0m output_df \u001b[38;5;241m=\u001b[39m pd\u001b[38;5;241m.\u001b[39mDataFrame(output, columns \u001b[38;5;241m=\u001b[39m [\u001b[38;5;124m'\u001b[39m\u001b[38;5;124mPro_id\u001b[39m\u001b[38;5;124m'\u001b[39m, \u001b[38;5;124m'\u001b[39m\u001b[38;5;124mPro_Name\u001b[39m\u001b[38;5;124m'\u001b[39m])\n",
            "\u001b[0;31mNameError\u001b[0m: name 'cursor' is not defined"
          ],
          "output_type": "error"
        }
      ],
      "id": "5d3fc7e8"
    },
    {
      "cell_type": "markdown",
      "source": "### Q8) Print the top 3 supplier name and id and rating on the basis of their rating along with the customer name who has given the rating.",
      "metadata": {
        "id": "bdce7167"
      },
      "id": "bdce7167"
    },
    {
      "cell_type": "code",
      "source": "qst6 = \"\"\"select supplier.supp_id, supplier.supp_name, customer.cus_name, ratings.rat_ratstars from ((ratings\n          inner join supplier on ratings.supp_id = supplier.supp_id) inner join customer on \n          ratings.cus_id = customer.cus_id ) order by rat_ratstars desc limit 3;\"\"\"\ncursor.execute(qst6)\noutput = cursor.fetchall()\noutput_df = pd.DataFrame(output, columns=['Supp_Id', 'Supp_Name', 'Cus_Name', 'Ratings'])\noutput_df",
      "metadata": {
        "id": "fa0cbe44",
        "trusted": true
      },
      "execution_count": null,
      "outputs": [
        {
          "ename": "<class 'NameError'>",
          "evalue": "name 'cursor' is not defined",
          "traceback": [
            "\u001b[0;31m---------------------------------------------------------------------------\u001b[0m",
            "\u001b[0;31mNameError\u001b[0m                                 Traceback (most recent call last)",
            "Input \u001b[0;32mIn [18]\u001b[0m, in \u001b[0;36m<cell line: 4>\u001b[0;34m()\u001b[0m\n\u001b[1;32m      1\u001b[0m qst6 \u001b[38;5;241m=\u001b[39m \u001b[38;5;124m\"\"\"\u001b[39m\u001b[38;5;124mselect supplier.supp_id, supplier.supp_name, customer.cus_name, ratings.rat_ratstars from ((ratings\u001b[39m\n\u001b[1;32m      2\u001b[0m \u001b[38;5;124m          inner join supplier on ratings.supp_id = supplier.supp_id) inner join customer on \u001b[39m\n\u001b[1;32m      3\u001b[0m \u001b[38;5;124m          ratings.cus_id = customer.cus_id ) order by rat_ratstars desc limit 3;\u001b[39m\u001b[38;5;124m\"\"\"\u001b[39m\n\u001b[0;32m----> 4\u001b[0m \u001b[43mcursor\u001b[49m\u001b[38;5;241m.\u001b[39mexecute(qst6)\n\u001b[1;32m      5\u001b[0m output \u001b[38;5;241m=\u001b[39m cursor\u001b[38;5;241m.\u001b[39mfetchall()\n\u001b[1;32m      6\u001b[0m output_df \u001b[38;5;241m=\u001b[39m pd\u001b[38;5;241m.\u001b[39mDataFrame(output, columns\u001b[38;5;241m=\u001b[39m[\u001b[38;5;124m'\u001b[39m\u001b[38;5;124mSupp_Id\u001b[39m\u001b[38;5;124m'\u001b[39m, \u001b[38;5;124m'\u001b[39m\u001b[38;5;124mSupp_Name\u001b[39m\u001b[38;5;124m'\u001b[39m, \u001b[38;5;124m'\u001b[39m\u001b[38;5;124mCus_Name\u001b[39m\u001b[38;5;124m'\u001b[39m, \u001b[38;5;124m'\u001b[39m\u001b[38;5;124mRatings\u001b[39m\u001b[38;5;124m'\u001b[39m])\n",
            "\u001b[0;31mNameError\u001b[0m: name 'cursor' is not defined"
          ],
          "output_type": "error"
        }
      ],
      "id": "fa0cbe44"
    },
    {
      "cell_type": "markdown",
      "source": "### Q9) Display customer name and gender whose names start or end with character 'A'.",
      "metadata": {
        "id": "346ec2a1"
      },
      "id": "346ec2a1"
    },
    {
      "cell_type": "code",
      "source": "qst7 = \"\"\"select cus_name, cus_gender from customer where cus_name like 'A%' or cus_name like '%A';\"\"\"\ncursor.execute(qst7)\noutput = cursor.fetchall()\noutput_df = pd.DataFrame(output, columns=['Cus_Name', 'Cus_Gender'])\noutput_df",
      "metadata": {
        "id": "e571b5fd",
        "trusted": true
      },
      "execution_count": null,
      "outputs": [
        {
          "ename": "<class 'NameError'>",
          "evalue": "name 'cursor' is not defined",
          "traceback": [
            "\u001b[0;31m---------------------------------------------------------------------------\u001b[0m",
            "\u001b[0;31mNameError\u001b[0m                                 Traceback (most recent call last)",
            "Input \u001b[0;32mIn [19]\u001b[0m, in \u001b[0;36m<cell line: 2>\u001b[0;34m()\u001b[0m\n\u001b[1;32m      1\u001b[0m qst7 \u001b[38;5;241m=\u001b[39m \u001b[38;5;124m\"\"\"\u001b[39m\u001b[38;5;124mselect cus_name, cus_gender from customer where cus_name like \u001b[39m\u001b[38;5;124m'\u001b[39m\u001b[38;5;124mA\u001b[39m\u001b[38;5;124m%\u001b[39m\u001b[38;5;124m'\u001b[39m\u001b[38;5;124m or cus_name like \u001b[39m\u001b[38;5;124m'\u001b[39m\u001b[38;5;124m%\u001b[39m\u001b[38;5;124mA\u001b[39m\u001b[38;5;124m'\u001b[39m\u001b[38;5;124m;\u001b[39m\u001b[38;5;124m\"\"\"\u001b[39m\n\u001b[0;32m----> 2\u001b[0m \u001b[43mcursor\u001b[49m\u001b[38;5;241m.\u001b[39mexecute(qst7)\n\u001b[1;32m      3\u001b[0m output \u001b[38;5;241m=\u001b[39m cursor\u001b[38;5;241m.\u001b[39mfetchall()\n\u001b[1;32m      4\u001b[0m output_df \u001b[38;5;241m=\u001b[39m pd\u001b[38;5;241m.\u001b[39mDataFrame(output, columns\u001b[38;5;241m=\u001b[39m[\u001b[38;5;124m'\u001b[39m\u001b[38;5;124mCus_Name\u001b[39m\u001b[38;5;124m'\u001b[39m, \u001b[38;5;124m'\u001b[39m\u001b[38;5;124mCus_Gender\u001b[39m\u001b[38;5;124m'\u001b[39m])\n",
            "\u001b[0;31mNameError\u001b[0m: name 'cursor' is not defined"
          ],
          "output_type": "error"
        }
      ],
      "id": "e571b5fd"
    },
    {
      "cell_type": "markdown",
      "source": "### Q10) Display the total order amount of the male customers.",
      "metadata": {
        "id": "d0b01f77"
      },
      "id": "d0b01f77"
    },
    {
      "cell_type": "code",
      "source": "qst8 = \"\"\"select sum(orders.ord_amount) as Total_Amount from orders where cus_id in\n          (select cus_id from customer where CUS_GENDER = 'm');\"\"\"\ncursor.execute(qst8)\noutput = cursor.fetchall()\noutput_df = pd.DataFrame(output, columns=['Total_Amount'])\noutput_df",
      "metadata": {
        "id": "c3fa76e3",
        "trusted": true
      },
      "execution_count": null,
      "outputs": [
        {
          "ename": "<class 'NameError'>",
          "evalue": "name 'cursor' is not defined",
          "traceback": [
            "\u001b[0;31m---------------------------------------------------------------------------\u001b[0m",
            "\u001b[0;31mNameError\u001b[0m                                 Traceback (most recent call last)",
            "Input \u001b[0;32mIn [20]\u001b[0m, in \u001b[0;36m<cell line: 3>\u001b[0;34m()\u001b[0m\n\u001b[1;32m      1\u001b[0m qst8 \u001b[38;5;241m=\u001b[39m \u001b[38;5;124m\"\"\"\u001b[39m\u001b[38;5;124mselect sum(orders.ord_amount) as Total_Amount from orders where cus_id in\u001b[39m\n\u001b[1;32m      2\u001b[0m \u001b[38;5;124m          (select cus_id from customer where CUS_GENDER = \u001b[39m\u001b[38;5;124m'\u001b[39m\u001b[38;5;124mm\u001b[39m\u001b[38;5;124m'\u001b[39m\u001b[38;5;124m);\u001b[39m\u001b[38;5;124m\"\"\"\u001b[39m\n\u001b[0;32m----> 3\u001b[0m \u001b[43mcursor\u001b[49m\u001b[38;5;241m.\u001b[39mexecute(qst8)\n\u001b[1;32m      4\u001b[0m output \u001b[38;5;241m=\u001b[39m cursor\u001b[38;5;241m.\u001b[39mfetchall()\n\u001b[1;32m      5\u001b[0m output_df \u001b[38;5;241m=\u001b[39m pd\u001b[38;5;241m.\u001b[39mDataFrame(output, columns\u001b[38;5;241m=\u001b[39m[\u001b[38;5;124m'\u001b[39m\u001b[38;5;124mTotal_Amount\u001b[39m\u001b[38;5;124m'\u001b[39m])\n",
            "\u001b[0;31mNameError\u001b[0m: name 'cursor' is not defined"
          ],
          "output_type": "error"
        }
      ],
      "id": "c3fa76e3"
    },
    {
      "cell_type": "markdown",
      "source": "### Q11) Display all the Customers left outer join with  the orders",
      "metadata": {
        "id": "ff8a9971"
      },
      "id": "ff8a9971"
    },
    {
      "cell_type": "code",
      "source": "qst9 = \"\"\"select customer.*, orders.ord_id, orders.ord_amount, orders.ord_date, orders.prod_id\n          from customer left outer join orders on customer.cus_id = orders.cus_id;\"\"\"\ncursor.execute(qst9)\noutput = cursor.fetchall()\noutput_df = pd.DataFrame(output, columns=['Cus_Id', 'Cus_Name', 'Cus_Phone', 'Cus_City', 'Cus_Gender', 'Ord_Id',\n                                          'Ord_Amount', 'Ord_Date', 'Prod_id' ])\noutput_df\n\nconnection.close()",
      "metadata": {
        "id": "a340c6d6",
        "trusted": true
      },
      "execution_count": null,
      "outputs": [
        {
          "ename": "<class 'NameError'>",
          "evalue": "name 'cursor' is not defined",
          "traceback": [
            "\u001b[0;31m---------------------------------------------------------------------------\u001b[0m",
            "\u001b[0;31mNameError\u001b[0m                                 Traceback (most recent call last)",
            "Input \u001b[0;32mIn [21]\u001b[0m, in \u001b[0;36m<cell line: 3>\u001b[0;34m()\u001b[0m\n\u001b[1;32m      1\u001b[0m qst9 \u001b[38;5;241m=\u001b[39m \u001b[38;5;124m\"\"\"\u001b[39m\u001b[38;5;124mselect customer.*, orders.ord_id, orders.ord_amount, orders.ord_date, orders.prod_id\u001b[39m\n\u001b[1;32m      2\u001b[0m \u001b[38;5;124m          from customer left outer join orders on customer.cus_id = orders.cus_id;\u001b[39m\u001b[38;5;124m\"\"\"\u001b[39m\n\u001b[0;32m----> 3\u001b[0m \u001b[43mcursor\u001b[49m\u001b[38;5;241m.\u001b[39mexecute(qst9)\n\u001b[1;32m      4\u001b[0m output \u001b[38;5;241m=\u001b[39m cursor\u001b[38;5;241m.\u001b[39mfetchall()\n\u001b[1;32m      5\u001b[0m output_df \u001b[38;5;241m=\u001b[39m pd\u001b[38;5;241m.\u001b[39mDataFrame(output, columns\u001b[38;5;241m=\u001b[39m[\u001b[38;5;124m'\u001b[39m\u001b[38;5;124mCus_Id\u001b[39m\u001b[38;5;124m'\u001b[39m, \u001b[38;5;124m'\u001b[39m\u001b[38;5;124mCus_Name\u001b[39m\u001b[38;5;124m'\u001b[39m, \u001b[38;5;124m'\u001b[39m\u001b[38;5;124mCus_Phone\u001b[39m\u001b[38;5;124m'\u001b[39m, \u001b[38;5;124m'\u001b[39m\u001b[38;5;124mCus_City\u001b[39m\u001b[38;5;124m'\u001b[39m, \u001b[38;5;124m'\u001b[39m\u001b[38;5;124mCus_Gender\u001b[39m\u001b[38;5;124m'\u001b[39m, \u001b[38;5;124m'\u001b[39m\u001b[38;5;124mOrd_Id\u001b[39m\u001b[38;5;124m'\u001b[39m,\n\u001b[1;32m      6\u001b[0m                                           \u001b[38;5;124m'\u001b[39m\u001b[38;5;124mOrd_Amount\u001b[39m\u001b[38;5;124m'\u001b[39m, \u001b[38;5;124m'\u001b[39m\u001b[38;5;124mOrd_Date\u001b[39m\u001b[38;5;124m'\u001b[39m, \u001b[38;5;124m'\u001b[39m\u001b[38;5;124mProd_id\u001b[39m\u001b[38;5;124m'\u001b[39m ])\n",
            "\u001b[0;31mNameError\u001b[0m: name 'cursor' is not defined"
          ],
          "output_type": "error"
        }
      ],
      "id": "a340c6d6"
    },
    {
      "cell_type": "markdown",
      "source": "**NOTE:** Always close an open connection once you are done with the database operations",
      "metadata": {
        "id": "0a72afe3"
      },
      "id": "0a72afe3"
    },
    {
      "cell_type": "markdown",
      "source": "## Happy Learning:)",
      "metadata": {
        "id": "8c88f479"
      },
      "id": "8c88f479"
    }
  ]
}